{
 "cells": [
  {
   "cell_type": "code",
   "execution_count": 1,
   "id": "92e2d1cc-d9c8-45eb-a59f-9da5593e1f1b",
   "metadata": {},
   "outputs": [
    {
     "name": "stdout",
     "output_type": "stream",
     "text": [
      "22 12\n"
     ]
    }
   ],
   "source": [
    "#1.Write a function that takes two integers and returns them in swapped order.\n",
    "\n",
    "def swap(a,b):\n",
    "    return b,a\n",
    "\n",
    "x,y = swap(12,22)\n",
    "print(x,y)"
   ]
  },
  {
   "cell_type": "code",
   "execution_count": 22,
   "id": "9b896704-49fb-4c26-b04c-51ff91586bcb",
   "metadata": {},
   "outputs": [
    {
     "name": "stdin",
     "output_type": "stream",
     "text": [
      "Enter numbers separated by space:  1 2 3 56 \n"
     ]
    },
    {
     "name": "stdout",
     "output_type": "stream",
     "text": [
      "The largest number is: 56\n"
     ]
    }
   ],
   "source": [
    "# 2.Write a function that returns the largest number in a list, without using max().\n",
    "\n",
    "def largest(numbers):\n",
    "    largest = numbers[0]\n",
    "    for num in numbers:\n",
    "        if num > largest:\n",
    "            largest = num\n",
    "    return largest \n",
    "\n",
    "num_list = list(map(int, input(\"Enter numbers separated by space: \").split()))\n",
    "print(\"The largest number is:\", largest(num_list))"
   ]
  },
  {
   "cell_type": "code",
   "execution_count": null,
   "id": "d6c45b24-0f32-4e82-8760-895e3937f1d8",
   "metadata": {},
   "outputs": [],
   "source": [
    "# 3. Write a function that replaces all instances of a character with another in a string, without using str.replace().\n",
    "\n"
   ]
  },
  {
   "cell_type": "code",
   "execution_count": 24,
   "id": "356dc908-b8bb-4e5d-8e37-6ec6ab4c2997",
   "metadata": {},
   "outputs": [
    {
     "name": "stdin",
     "output_type": "stream",
     "text": [
      "Enter first list of elements (space-separated):  1 5 2 6 4\n",
      "Enter second list of elements (space-separated):  86 3 5 9 7\n"
     ]
    },
    {
     "name": "stdout",
     "output_type": "stream",
     "text": [
      "Common elements: ['5']\n"
     ]
    }
   ],
   "source": [
    "#4. Write a function that returns a list of common elements between two lists.\n",
    "\n",
    "def common_elements(list1, list2):\n",
    "    common = []\n",
    "    for item in list1:\n",
    "        if item in list2 and item not in common:\n",
    "            common.append(item)\n",
    "    return common\n",
    "\n",
    "list1 = input(\"Enter first list of elements (space-separated): \").split()\n",
    "list2 = input(\"Enter second list of elements (space-separated): \").split()\n",
    "\n",
    "print(\"Common elements:\", common_elements(list1, list2))"
   ]
  },
  {
   "cell_type": "code",
   "execution_count": null,
   "id": "aed13a9e-cda8-4da6-ba4a-233390af662a",
   "metadata": {},
   "outputs": [],
   "source": [
    "# 5. Write a function to split a string into words based on spaces (no str.split()).\n",
    "\n"
   ]
  },
  {
   "cell_type": "code",
   "execution_count": 26,
   "id": "55fd21a2-861e-4596-ab84-7ab08d67b58e",
   "metadata": {},
   "outputs": [
    {
     "name": "stdin",
     "output_type": "stream",
     "text": [
      "Enter the value of n:  6\n",
      "Enter 5 numbers from 1 to 6, with one missing:  1 2 3 4 5\n"
     ]
    },
    {
     "name": "stdout",
     "output_type": "stream",
     "text": [
      "The missing number is: 6\n"
     ]
    }
   ],
   "source": [
    "#6. Given a list of integers from 1 to n with one number missing, write a function to find the missing number.\n",
    "\n",
    "\n",
    "def find_missing_number(numbers, n):\n",
    "    expected_sum = n * (n + 1) // 2 # addition of all and sub of the actual output that gives the missing value\n",
    "    actual_sum = sum(numbers)\n",
    "    return expected_sum - actual_sum\n",
    "\n",
    "n = int(input(\"Enter the value of n: \"))\n",
    "numbers = list(map(int, input(f\"Enter {n - 1} numbers from 1 to {n}, with one missing: \").split()))\n",
    "missing = find_missing_number(numbers, n)\n",
    "print(\"The missing number is:\", missing)\n"
   ]
  },
  {
   "cell_type": "code",
   "execution_count": 29,
   "id": "1875c33c-01ae-4d95-8ca7-ef085a137e9c",
   "metadata": {},
   "outputs": [
    {
     "ename": "IndentationError",
     "evalue": "unindent does not match any outer indentation level (<string>, line 7)",
     "output_type": "error",
     "traceback": [
      "\u001b[1;36m  File \u001b[1;32m<string>:7\u001b[1;36m\u001b[0m\n\u001b[1;33m    return result[:-len(sep)]# remove the last extra separator\u001b[0m\n\u001b[1;37m                                                              ^\u001b[0m\n\u001b[1;31mIndentationError\u001b[0m\u001b[1;31m:\u001b[0m unindent does not match any outer indentation level\n"
     ]
    }
   ],
   "source": [
    "#7 . Write a function that joins a list of strings with a given separator (do not use str.join()).\n",
    "\n",
    "def manual_join(words, sep):\n",
    "    result = \"\"\n",
    "    for word in words:\n",
    "        result += word + sep\n",
    "      return result[:-len(sep)] # remove the last extra separator\n",
    "\n",
    "# Example usage\n",
    "words = input(\"Enter words: \").split()\n",
    "sep = input(\"Enter separator: \")\n",
    "print(manual_join(words, sep))"
   ]
  },
  {
   "cell_type": "code",
   "execution_count": null,
   "id": "9a0c50bb-3bdf-4436-ae6e-f188d6cbe7c1",
   "metadata": {},
   "outputs": [],
   "source": []
  }
 ],
 "metadata": {
  "kernelspec": {
   "display_name": "Python [conda env:base] *",
   "language": "python",
   "name": "conda-base-py"
  },
  "language_info": {
   "codemirror_mode": {
    "name": "ipython",
    "version": 3
   },
   "file_extension": ".py",
   "mimetype": "text/x-python",
   "name": "python",
   "nbconvert_exporter": "python",
   "pygments_lexer": "ipython3",
   "version": "3.12.7"
  }
 },
 "nbformat": 4,
 "nbformat_minor": 5
}
